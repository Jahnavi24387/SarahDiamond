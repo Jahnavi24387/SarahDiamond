{
 "cells": [
  {
   "cell_type": "markdown",
   "metadata": {
    "papermill": {
     "duration": 0.041051,
     "end_time": "2020-10-16T14:33:06.316929",
     "exception": false,
     "start_time": "2020-10-16T14:33:06.275878",
     "status": "completed"
    },
    "tags": []
   },
   "source": [
    "# Diamond price predictor (Python)\n",
    "\n",
    "Quick notebook assessing the price of diamonds based on a number of different inputs. In the interest of practice, wanted to give this a crack from scratch without reference to the starter code. Have also done this in Python (again for practice) but have avoided functions that would not be possible in R as discussed so far in class.\n",
    "\n",
    "Predictions are made on the basis of linear regression using multiple variables in the main body of the notebook. Towards the end, a neural network approach is implemented as an alternative option. Graphing the linear view reveals limitations in the model that appear to be at least partially solved through a relatively shallow neural network. However, this approach was not submitted to the board.\n",
    "\n",
    "The naive linear regression appoach, assuming no specifically correlated variables, delivered relatively poor performance (~30 MAPE), also projecting many diamonds to have negative values. The neural network approach provided a much better prediction, staying fairly accurate at high prices and giving an overall MAPE (on the validation set) of ~8. "
   ]
  },
  {
   "cell_type": "code",
   "execution_count": 18,
   "metadata": {
    "_cell_guid": "79c7e3d0-c299-4dcb-8224-4455121ee9b0",
    "_uuid": "d629ff2d2480ee46fbb7e2d37f6b5fab8052498a",
    "execution": {
     "iopub.execute_input": "2020-10-16T14:33:06.486727Z",
     "iopub.status.busy": "2020-10-16T14:33:06.485840Z",
     "iopub.status.idle": "2020-10-16T14:33:07.696808Z",
     "shell.execute_reply": "2020-10-16T14:33:07.696017Z"
    },
    "papermill": {
     "duration": 1.255768,
     "end_time": "2020-10-16T14:33:07.696951",
     "exception": false,
     "start_time": "2020-10-16T14:33:06.441183",
     "status": "completed"
    },
    "tags": []
   },
   "outputs": [],
   "source": [
    "import numpy as np\n",
    "import pandas as pd\n",
    "\n",
    "from sklearn.model_selection import train_test_split\n",
    "from sklearn.preprocessing import StandardScaler\n",
    "from sklearn.linear_model import LinearRegression\n",
    "from sklearn.metrics import mean_squared_error\n",
    "from sklearn.preprocessing import PolynomialFeatures\n",
    "\n",
    "import matplotlib.pyplot as plt\n",
    "import seaborn as sns"
   ]
  },
  {
   "cell_type": "code",
   "execution_count": 61,
   "metadata": {},
   "outputs": [],
   "source": [
    "from numpy.random import RandomState\n",
    "import pandas as pd\n",
    "\n",
    "df = pd.read_csv('data.csv')\n",
    "rng = RandomState()\n",
    "\n",
    "train = df.sample(frac=0.8, random_state=rng)\n",
    "test = df.loc[~df.index.isin(train.index)]\n",
    "\n",
    "train.to_csv('train.csv', index=False)\n",
    "test.to_csv('test.csv', index=False)"
   ]
  },
  {
   "cell_type": "code",
   "execution_count": 62,
   "metadata": {
    "execution": {
     "iopub.execute_input": "2020-10-16T14:33:07.780065Z",
     "iopub.status.busy": "2020-10-16T14:33:07.779218Z",
     "iopub.status.idle": "2020-10-16T14:33:07.824373Z",
     "shell.execute_reply": "2020-10-16T14:33:07.824998Z"
    },
    "papermill": {
     "duration": 0.089651,
     "end_time": "2020-10-16T14:33:07.825173",
     "exception": false,
     "start_time": "2020-10-16T14:33:07.735522",
     "status": "completed"
    },
    "tags": []
   },
   "outputs": [
    {
     "data": {
      "text/html": [
       "<div>\n",
       "<style scoped>\n",
       "    .dataframe tbody tr th:only-of-type {\n",
       "        vertical-align: middle;\n",
       "    }\n",
       "\n",
       "    .dataframe tbody tr th {\n",
       "        vertical-align: top;\n",
       "    }\n",
       "\n",
       "    .dataframe thead th {\n",
       "        text-align: right;\n",
       "    }\n",
       "</style>\n",
       "<table border=\"1\" class=\"dataframe\">\n",
       "  <thead>\n",
       "    <tr style=\"text-align: right;\">\n",
       "      <th></th>\n",
       "      <th>Id</th>\n",
       "      <th>Carat Weight</th>\n",
       "      <th>Cut</th>\n",
       "      <th>Color</th>\n",
       "      <th>Clarity</th>\n",
       "      <th>Polish</th>\n",
       "      <th>Symmetry</th>\n",
       "      <th>Report</th>\n",
       "      <th>Price</th>\n",
       "    </tr>\n",
       "  </thead>\n",
       "  <tbody>\n",
       "    <tr>\n",
       "      <th>0</th>\n",
       "      <td>3399</td>\n",
       "      <td>1.34</td>\n",
       "      <td>Very Good</td>\n",
       "      <td>H</td>\n",
       "      <td>SI1</td>\n",
       "      <td>G</td>\n",
       "      <td>VG</td>\n",
       "      <td>GIA</td>\n",
       "      <td>7655</td>\n",
       "    </tr>\n",
       "    <tr>\n",
       "      <th>1</th>\n",
       "      <td>5869</td>\n",
       "      <td>1.00</td>\n",
       "      <td>Very Good</td>\n",
       "      <td>G</td>\n",
       "      <td>VS2</td>\n",
       "      <td>EX</td>\n",
       "      <td>VG</td>\n",
       "      <td>GIA</td>\n",
       "      <td>7743</td>\n",
       "    </tr>\n",
       "    <tr>\n",
       "      <th>2</th>\n",
       "      <td>4009</td>\n",
       "      <td>0.80</td>\n",
       "      <td>Ideal</td>\n",
       "      <td>G</td>\n",
       "      <td>VS2</td>\n",
       "      <td>VG</td>\n",
       "      <td>VG</td>\n",
       "      <td>GIA</td>\n",
       "      <td>3314</td>\n",
       "    </tr>\n",
       "    <tr>\n",
       "      <th>3</th>\n",
       "      <td>4988</td>\n",
       "      <td>1.28</td>\n",
       "      <td>Ideal</td>\n",
       "      <td>G</td>\n",
       "      <td>VVS2</td>\n",
       "      <td>VG</td>\n",
       "      <td>EX</td>\n",
       "      <td>GIA</td>\n",
       "      <td>10635</td>\n",
       "    </tr>\n",
       "    <tr>\n",
       "      <th>4</th>\n",
       "      <td>273</td>\n",
       "      <td>1.20</td>\n",
       "      <td>Very Good</td>\n",
       "      <td>F</td>\n",
       "      <td>VS1</td>\n",
       "      <td>VG</td>\n",
       "      <td>VG</td>\n",
       "      <td>GIA</td>\n",
       "      <td>9574</td>\n",
       "    </tr>\n",
       "  </tbody>\n",
       "</table>\n",
       "</div>"
      ],
      "text/plain": [
       "     Id  Carat Weight        Cut Color Clarity Polish Symmetry Report  Price\n",
       "0  3399          1.34  Very Good     H     SI1      G       VG    GIA   7655\n",
       "1  5869          1.00  Very Good     G     VS2     EX       VG    GIA   7743\n",
       "2  4009          0.80      Ideal     G     VS2     VG       VG    GIA   3314\n",
       "3  4988          1.28      Ideal     G    VVS2     VG       EX    GIA  10635\n",
       "4   273          1.20  Very Good     F     VS1     VG       VG    GIA   9574"
      ]
     },
     "execution_count": 62,
     "metadata": {},
     "output_type": "execute_result"
    }
   ],
   "source": [
    "df = pd.read_csv(\"train.csv\")\n",
    "df.head()"
   ]
  },
  {
   "cell_type": "code",
   "execution_count": 63,
   "metadata": {
    "execution": {
     "iopub.execute_input": "2020-10-16T14:33:07.908537Z",
     "iopub.status.busy": "2020-10-16T14:33:07.907242Z",
     "iopub.status.idle": "2020-10-16T14:33:07.933225Z",
     "shell.execute_reply": "2020-10-16T14:33:07.932495Z"
    },
    "papermill": {
     "duration": 0.070057,
     "end_time": "2020-10-16T14:33:07.933369",
     "exception": false,
     "start_time": "2020-10-16T14:33:07.863312",
     "status": "completed"
    },
    "tags": []
   },
   "outputs": [
    {
     "data": {
      "text/html": [
       "<div>\n",
       "<style scoped>\n",
       "    .dataframe tbody tr th:only-of-type {\n",
       "        vertical-align: middle;\n",
       "    }\n",
       "\n",
       "    .dataframe tbody tr th {\n",
       "        vertical-align: top;\n",
       "    }\n",
       "\n",
       "    .dataframe thead th {\n",
       "        text-align: right;\n",
       "    }\n",
       "</style>\n",
       "<table border=\"1\" class=\"dataframe\">\n",
       "  <thead>\n",
       "    <tr style=\"text-align: right;\">\n",
       "      <th></th>\n",
       "      <th>Id</th>\n",
       "      <th>Carat Weight</th>\n",
       "      <th>Cut</th>\n",
       "      <th>Color</th>\n",
       "      <th>Clarity</th>\n",
       "      <th>Polish</th>\n",
       "      <th>Symmetry</th>\n",
       "      <th>Report</th>\n",
       "      <th>Price</th>\n",
       "    </tr>\n",
       "  </thead>\n",
       "  <tbody>\n",
       "    <tr>\n",
       "      <th>0</th>\n",
       "      <td>1</td>\n",
       "      <td>0.83</td>\n",
       "      <td>Ideal</td>\n",
       "      <td>H</td>\n",
       "      <td>VS1</td>\n",
       "      <td>ID</td>\n",
       "      <td>ID</td>\n",
       "      <td>AGSL</td>\n",
       "      <td>3470</td>\n",
       "    </tr>\n",
       "    <tr>\n",
       "      <th>1</th>\n",
       "      <td>10</td>\n",
       "      <td>0.91</td>\n",
       "      <td>Ideal</td>\n",
       "      <td>D</td>\n",
       "      <td>VS2</td>\n",
       "      <td>VG</td>\n",
       "      <td>VG</td>\n",
       "      <td>GIA</td>\n",
       "      <td>6224</td>\n",
       "    </tr>\n",
       "    <tr>\n",
       "      <th>2</th>\n",
       "      <td>17</td>\n",
       "      <td>1.28</td>\n",
       "      <td>Very Good</td>\n",
       "      <td>I</td>\n",
       "      <td>VS1</td>\n",
       "      <td>EX</td>\n",
       "      <td>VG</td>\n",
       "      <td>GIA</td>\n",
       "      <td>6726</td>\n",
       "    </tr>\n",
       "    <tr>\n",
       "      <th>3</th>\n",
       "      <td>26</td>\n",
       "      <td>2.02</td>\n",
       "      <td>Very Good</td>\n",
       "      <td>I</td>\n",
       "      <td>SI1</td>\n",
       "      <td>G</td>\n",
       "      <td>G</td>\n",
       "      <td>GIA</td>\n",
       "      <td>14839</td>\n",
       "    </tr>\n",
       "    <tr>\n",
       "      <th>4</th>\n",
       "      <td>28</td>\n",
       "      <td>2.41</td>\n",
       "      <td>Very Good</td>\n",
       "      <td>H</td>\n",
       "      <td>VS2</td>\n",
       "      <td>EX</td>\n",
       "      <td>EX</td>\n",
       "      <td>GIA</td>\n",
       "      <td>27337</td>\n",
       "    </tr>\n",
       "  </tbody>\n",
       "</table>\n",
       "</div>"
      ],
      "text/plain": [
       "   Id  Carat Weight        Cut Color Clarity Polish Symmetry Report  Price\n",
       "0   1          0.83      Ideal     H     VS1     ID       ID   AGSL   3470\n",
       "1  10          0.91      Ideal     D     VS2     VG       VG    GIA   6224\n",
       "2  17          1.28  Very Good     I     VS1     EX       VG    GIA   6726\n",
       "3  26          2.02  Very Good     I     SI1      G        G    GIA  14839\n",
       "4  28          2.41  Very Good     H     VS2     EX       EX    GIA  27337"
      ]
     },
     "execution_count": 63,
     "metadata": {},
     "output_type": "execute_result"
    }
   ],
   "source": [
    "df_test = pd.read_csv(\"test.csv\")\n",
    "df_test.head()"
   ]
  },
  {
   "cell_type": "markdown",
   "metadata": {
    "papermill": {
     "duration": 0.039046,
     "end_time": "2020-10-16T14:33:08.011824",
     "exception": false,
     "start_time": "2020-10-16T14:33:07.972778",
     "status": "completed"
    },
    "tags": []
   },
   "source": [
    "# Basic data visualization\n",
    "\n",
    "In order to get a rough sense of how the price is distributed, we do a distplot (Kaggle seaborn version is apparently 0.10.0, meaning displot is not implemented)"
   ]
  },
  {
   "cell_type": "code",
   "execution_count": 64,
   "metadata": {
    "execution": {
     "iopub.execute_input": "2020-10-16T14:33:08.102273Z",
     "iopub.status.busy": "2020-10-16T14:33:08.101028Z",
     "iopub.status.idle": "2020-10-16T14:33:08.420150Z",
     "shell.execute_reply": "2020-10-16T14:33:08.419551Z"
    },
    "papermill": {
     "duration": 0.369558,
     "end_time": "2020-10-16T14:33:08.420300",
     "exception": false,
     "start_time": "2020-10-16T14:33:08.050742",
     "status": "completed"
    },
    "tags": []
   },
   "outputs": [
    {
     "name": "stderr",
     "output_type": "stream",
     "text": [
      "C:\\Users\\User\\AppData\\Local\\Temp\\ipykernel_1548\\834922981.py:1: UserWarning: \n",
      "\n",
      "`distplot` is a deprecated function and will be removed in seaborn v0.14.0.\n",
      "\n",
      "Please adapt your code to use either `displot` (a figure-level function with\n",
      "similar flexibility) or `histplot` (an axes-level function for histograms).\n",
      "\n",
      "For a guide to updating your code to use the new functions, please see\n",
      "https://gist.github.com/mwaskom/de44147ed2974457ad6372750bbe5751\n",
      "\n",
      "  sns.distplot(df['Price'])\n"
     ]
    },
    {
     "data": {
      "text/plain": [
       "<Axes: xlabel='Price', ylabel='Density'>"
      ]
     },
     "execution_count": 64,
     "metadata": {},
     "output_type": "execute_result"
    },
    {
     "data": {
      "image/png": "[encoded data removed]",
      "text/plain": [
       "<Figure size 640x480 with 1 Axes>"
      ]
     },
     "metadata": {},
     "output_type": "display_data"
    }
   ],
   "source": [
    "sns.distplot(df['Price'])"
   ]
  },
  {
   "cell_type": "code",
   "execution_count": 65,
   "metadata": {
    "execution": {
     "iopub.execute_input": "2020-10-16T14:33:08.513344Z",
     "iopub.status.busy": "2020-10-16T14:33:08.512205Z",
     "iopub.status.idle": "2020-10-16T14:33:08.741858Z",
     "shell.execute_reply": "2020-10-16T14:33:08.741055Z"
    },
    "papermill": {
     "duration": 0.281195,
     "end_time": "2020-10-16T14:33:08.741990",
     "exception": false,
     "start_time": "2020-10-16T14:33:08.460795",
     "status": "completed"
    },
    "tags": []
   },
   "outputs": [
    {
     "name": "stderr",
     "output_type": "stream",
     "text": [
      "C:\\Users\\User\\AppData\\Local\\Temp\\ipykernel_1548\\4088346702.py:1: UserWarning: \n",
      "\n",
      "`distplot` is a deprecated function and will be removed in seaborn v0.14.0.\n",
      "\n",
      "Please adapt your code to use either `displot` (a figure-level function with\n",
      "similar flexibility) or `histplot` (an axes-level function for histograms).\n",
      "\n",
      "For a guide to updating your code to use the new functions, please see\n",
      "https://gist.github.com/mwaskom/de44147ed2974457ad6372750bbe5751\n",
      "\n",
      "  sns.distplot(df['Carat Weight'])\n"
     ]
    },
    {
     "data": {
      "text/plain": [
       "<Axes: xlabel='Carat Weight', ylabel='Density'>"
      ]
     },
     "execution_count": 65,
     "metadata": {},
     "output_type": "execute_result"
    },
    {
     "data": {
      "image/png": "[encoded data removed]",
      "text/plain": [
       "<Figure size 640x480 with 1 Axes>"
      ]
     },
     "metadata": {},
     "output_type": "display_data"
    }
   ],
   "source": [
    "sns.distplot(df['Carat Weight'])"
   ]
  },
  {
   "cell_type": "markdown",
   "metadata": {
    "papermill": {
     "duration": 0.041781,
     "end_time": "2020-10-16T14:33:08.825909",
     "exception": false,
     "start_time": "2020-10-16T14:33:08.784128",
     "status": "completed"
    },
    "tags": []
   },
   "source": [
    "# Mapping of ordinal variables\n",
    "\n",
    "The variables Polish, Clarity, Cut, Color and Symmetry and ordered categorical variables, so we will use mappings to determine the values"
   ]
  },
  {
   "cell_type": "code",
   "execution_count": 66,
   "metadata": {
    "execution": {
     "iopub.execute_input": "2020-10-16T14:33:08.920281Z",
     "iopub.status.busy": "2020-10-16T14:33:08.919512Z",
     "iopub.status.idle": "2020-10-16T14:33:08.922066Z",
     "shell.execute_reply": "2020-10-16T14:33:08.922677Z"
    },
    "papermill": {
     "duration": 0.050956,
     "end_time": "2020-10-16T14:33:08.922848",
     "exception": false,
     "start_time": "2020-10-16T14:33:08.871892",
     "status": "completed"
    },
    "tags": []
   },
   "outputs": [],
   "source": [
    "polish_map = {'G': 1, \n",
    "              'VG': 2, \n",
    "              'EX': 3, \n",
    "              'ID': 4}"
   ]
  },
  {
   "cell_type": "code",
   "execution_count": 67,
   "metadata": {
    "execution": {
     "iopub.execute_input": "2020-10-16T14:33:09.013873Z",
     "iopub.status.busy": "2020-10-16T14:33:09.012914Z",
     "iopub.status.idle": "2020-10-16T14:33:09.016240Z",
     "shell.execute_reply": "2020-10-16T14:33:09.015616Z"
    },
    "papermill": {
     "duration": 0.051268,
     "end_time": "2020-10-16T14:33:09.016371",
     "exception": false,
     "start_time": "2020-10-16T14:33:08.965103",
     "status": "completed"
    },
    "tags": []
   },
   "outputs": [],
   "source": [
    "clarity_map = {'SI1': 1, \n",
    "               'VS2': 2, \n",
    "               'VS1': 3,\n",
    "               'VVS2': 4,\n",
    "               'VVS1': 5,\n",
    "               'IF': 6,\n",
    "               'FL': 7}"
   ]
  },
  {
   "cell_type": "code",
   "execution_count": 68,
   "metadata": {
    "execution": {
     "iopub.execute_input": "2020-10-16T14:33:09.110602Z",
     "iopub.status.busy": "2020-10-16T14:33:09.109609Z",
     "iopub.status.idle": "2020-10-16T14:33:09.112697Z",
     "shell.execute_reply": "2020-10-16T14:33:09.111993Z"
    },
    "papermill": {
     "duration": 0.054034,
     "end_time": "2020-10-16T14:33:09.112826",
     "exception": false,
     "start_time": "2020-10-16T14:33:09.058792",
     "status": "completed"
    },
    "tags": []
   },
   "outputs": [],
   "source": [
    "symmetry_map = {'G': 1,\n",
    "                'VG': 2,\n",
    "                'EX': 3,\n",
    "                'ID': 4}"
   ]
  },
  {
   "cell_type": "code",
   "execution_count": 69,
   "metadata": {
    "execution": {
     "iopub.execute_input": "2020-10-16T14:33:09.205678Z",
     "iopub.status.busy": "2020-10-16T14:33:09.204905Z",
     "iopub.status.idle": "2020-10-16T14:33:09.208818Z",
     "shell.execute_reply": "2020-10-16T14:33:09.208011Z"
    },
    "papermill": {
     "duration": 0.053214,
     "end_time": "2020-10-16T14:33:09.208951",
     "exception": false,
     "start_time": "2020-10-16T14:33:09.155737",
     "status": "completed"
    },
    "tags": []
   },
   "outputs": [],
   "source": [
    "color_map = {'J': 1,\n",
    "                'I': 2,\n",
    "                'H': 3,\n",
    "                'G': 4,\n",
    "                'F': 5,\n",
    "                'E': 6,\n",
    "                'D': 7}"
   ]
  },
  {
   "cell_type": "code",
   "execution_count": 70,
   "metadata": {
    "execution": {
     "iopub.execute_input": "2020-10-16T14:33:09.302234Z",
     "iopub.status.busy": "2020-10-16T14:33:09.301268Z",
     "iopub.status.idle": "2020-10-16T14:33:09.303750Z",
     "shell.execute_reply": "2020-10-16T14:33:09.304270Z"
    },
    "papermill": {
     "duration": 0.051901,
     "end_time": "2020-10-16T14:33:09.304450",
     "exception": false,
     "start_time": "2020-10-16T14:33:09.252549",
     "status": "completed"
    },
    "tags": []
   },
   "outputs": [],
   "source": [
    "cut_map = {'Poor': 1, \n",
    "               'Fair': 2, \n",
    "               'Good': 3,\n",
    "               'Very Good': 4,\n",
    "               'Ideal': 5,\n",
    "               'Signature-Ideal': 6}"
   ]
  },
  {
   "cell_type": "code",
   "execution_count": 71,
   "metadata": {
    "execution": {
     "iopub.execute_input": "2020-10-16T14:33:09.401822Z",
     "iopub.status.busy": "2020-10-16T14:33:09.400629Z",
     "iopub.status.idle": "2020-10-16T14:33:09.415844Z",
     "shell.execute_reply": "2020-10-16T14:33:09.415136Z"
    },
    "papermill": {
     "duration": 0.068041,
     "end_time": "2020-10-16T14:33:09.415978",
     "exception": false,
     "start_time": "2020-10-16T14:33:09.347937",
     "status": "completed"
    },
    "tags": []
   },
   "outputs": [],
   "source": [
    "df['Cut'] = df['Cut'].map(cut_map)\n",
    "df['Color'] = df['Color'].map(color_map)\n",
    "df['Polish'] = df['Polish'].map(polish_map)\n",
    "df['Symmetry'] = df['Symmetry'].map(symmetry_map)\n",
    "df['Clarity'] = df['Clarity'].map(clarity_map)"
   ]
  },
  {
   "cell_type": "code",
   "execution_count": 72,
   "metadata": {
    "execution": {
     "iopub.execute_input": "2020-10-16T14:33:09.521910Z",
     "iopub.status.busy": "2020-10-16T14:33:09.511069Z",
     "iopub.status.idle": "2020-10-16T14:33:09.525040Z",
     "shell.execute_reply": "2020-10-16T14:33:09.525617Z"
    },
    "papermill": {
     "duration": 0.066428,
     "end_time": "2020-10-16T14:33:09.525807",
     "exception": false,
     "start_time": "2020-10-16T14:33:09.459379",
     "status": "completed"
    },
    "tags": []
   },
   "outputs": [],
   "source": [
    "df_test['Cut'] = df_test['Cut'].map(cut_map)\n",
    "df_test['Color'] = df_test['Color'].map(color_map)\n",
    "df_test['Polish'] = df_test['Polish'].map(polish_map)\n",
    "df_test['Symmetry'] = df_test['Symmetry'].map(symmetry_map)\n",
    "df_test['Clarity'] = df_test['Clarity'].map(clarity_map)"
   ]
  },
  {
   "cell_type": "markdown",
   "metadata": {
    "papermill": {
     "duration": 0.043373,
     "end_time": "2020-10-16T14:33:09.612621",
     "exception": false,
     "start_time": "2020-10-16T14:33:09.569248",
     "status": "completed"
    },
    "tags": []
   },
   "source": [
    "# Using dummy variables\n",
    " \n",
    "The report seems unlikely to drive meaningful difference, but in the absence of a data dictionary definition we will use it in case there is a material difference in how different industry reports are perceived"
   ]
  },
  {
   "cell_type": "code",
   "execution_count": 73,
   "metadata": {
    "execution": {
     "iopub.execute_input": "2020-10-16T14:33:09.710125Z",
     "iopub.status.busy": "2020-10-16T14:33:09.709079Z",
     "iopub.status.idle": "2020-10-16T14:33:09.738072Z",
     "shell.execute_reply": "2020-10-16T14:33:09.737121Z"
    },
    "papermill": {
     "duration": 0.081335,
     "end_time": "2020-10-16T14:33:09.738219",
     "exception": false,
     "start_time": "2020-10-16T14:33:09.656884",
     "status": "completed"
    },
    "tags": []
   },
   "outputs": [
    {
     "data": {
      "text/html": [
       "<div>\n",
       "<style scoped>\n",
       "    .dataframe tbody tr th:only-of-type {\n",
       "        vertical-align: middle;\n",
       "    }\n",
       "\n",
       "    .dataframe tbody tr th {\n",
       "        vertical-align: top;\n",
       "    }\n",
       "\n",
       "    .dataframe thead th {\n",
       "        text-align: right;\n",
       "    }\n",
       "</style>\n",
       "<table border=\"1\" class=\"dataframe\">\n",
       "  <thead>\n",
       "    <tr style=\"text-align: right;\">\n",
       "      <th></th>\n",
       "      <th>Id</th>\n",
       "      <th>Carat Weight</th>\n",
       "      <th>Cut</th>\n",
       "      <th>Color</th>\n",
       "      <th>Clarity</th>\n",
       "      <th>Polish</th>\n",
       "      <th>Symmetry</th>\n",
       "      <th>Price</th>\n",
       "      <th>Report_GIA</th>\n",
       "    </tr>\n",
       "  </thead>\n",
       "  <tbody>\n",
       "    <tr>\n",
       "      <th>0</th>\n",
       "      <td>3399</td>\n",
       "      <td>1.34</td>\n",
       "      <td>4</td>\n",
       "      <td>3</td>\n",
       "      <td>1</td>\n",
       "      <td>1</td>\n",
       "      <td>2</td>\n",
       "      <td>7655</td>\n",
       "      <td>1</td>\n",
       "    </tr>\n",
       "    <tr>\n",
       "      <th>1</th>\n",
       "      <td>5869</td>\n",
       "      <td>1.00</td>\n",
       "      <td>4</td>\n",
       "      <td>4</td>\n",
       "      <td>2</td>\n",
       "      <td>3</td>\n",
       "      <td>2</td>\n",
       "      <td>7743</td>\n",
       "      <td>1</td>\n",
       "    </tr>\n",
       "    <tr>\n",
       "      <th>2</th>\n",
       "      <td>4009</td>\n",
       "      <td>0.80</td>\n",
       "      <td>5</td>\n",
       "      <td>4</td>\n",
       "      <td>2</td>\n",
       "      <td>2</td>\n",
       "      <td>2</td>\n",
       "      <td>3314</td>\n",
       "      <td>1</td>\n",
       "    </tr>\n",
       "    <tr>\n",
       "      <th>3</th>\n",
       "      <td>4988</td>\n",
       "      <td>1.28</td>\n",
       "      <td>5</td>\n",
       "      <td>4</td>\n",
       "      <td>4</td>\n",
       "      <td>2</td>\n",
       "      <td>3</td>\n",
       "      <td>10635</td>\n",
       "      <td>1</td>\n",
       "    </tr>\n",
       "    <tr>\n",
       "      <th>4</th>\n",
       "      <td>273</td>\n",
       "      <td>1.20</td>\n",
       "      <td>4</td>\n",
       "      <td>5</td>\n",
       "      <td>3</td>\n",
       "      <td>2</td>\n",
       "      <td>2</td>\n",
       "      <td>9574</td>\n",
       "      <td>1</td>\n",
       "    </tr>\n",
       "  </tbody>\n",
       "</table>\n",
       "</div>"
      ],
      "text/plain": [
       "     Id  Carat Weight  Cut  Color  Clarity  Polish  Symmetry  Price  \\\n",
       "0  3399          1.34    4      3        1       1         2   7655   \n",
       "1  5869          1.00    4      4        2       3         2   7743   \n",
       "2  4009          0.80    5      4        2       2         2   3314   \n",
       "3  4988          1.28    5      4        4       2         3  10635   \n",
       "4   273          1.20    4      5        3       2         2   9574   \n",
       "\n",
       "   Report_GIA  \n",
       "0           1  \n",
       "1           1  \n",
       "2           1  \n",
       "3           1  \n",
       "4           1  "
      ]
     },
     "execution_count": 73,
     "metadata": {},
     "output_type": "execute_result"
    }
   ],
   "source": [
    "df = pd.get_dummies(df, drop_first=True)\n",
    "df_test = pd.get_dummies(df_test, drop_first=True)\n",
    "\n",
    "df.head()"
   ]
  },
  {
   "cell_type": "markdown",
   "metadata": {
    "papermill": {
     "duration": 0.04425,
     "end_time": "2020-10-16T14:33:09.828040",
     "exception": false,
     "start_time": "2020-10-16T14:33:09.783790",
     "status": "completed"
    },
    "tags": []
   },
   "source": [
    "# Using logarithms for price"
   ]
  },
  {
   "cell_type": "code",
   "execution_count": 74,
   "metadata": {
    "execution": {
     "iopub.execute_input": "2020-10-16T14:33:09.925045Z",
     "iopub.status.busy": "2020-10-16T14:33:09.923878Z",
     "iopub.status.idle": "2020-10-16T14:33:09.929376Z",
     "shell.execute_reply": "2020-10-16T14:33:09.928495Z"
    },
    "papermill": {
     "duration": 0.057157,
     "end_time": "2020-10-16T14:33:09.929561",
     "exception": false,
     "start_time": "2020-10-16T14:33:09.872404",
     "status": "completed"
    },
    "tags": []
   },
   "outputs": [],
   "source": [
    "df['Price'] = np.log(df['Price'])"
   ]
  },
  {
   "cell_type": "code",
   "execution_count": null,
   "metadata": {
    "papermill": {
     "duration": 0.046915,
     "end_time": "2020-10-16T14:33:10.022292",
     "exception": false,
     "start_time": "2020-10-16T14:33:09.975377",
     "status": "completed"
    },
    "tags": []
   },
   "outputs": [],
   "source": []
  },
  {
   "cell_type": "markdown",
   "metadata": {
    "papermill": {
     "duration": 0.050736,
     "end_time": "2020-10-16T14:33:10.117501",
     "exception": false,
     "start_time": "2020-10-16T14:33:10.066765",
     "status": "completed"
    },
    "tags": []
   },
   "source": [
    "# Dividing up the data\n"
   ]
  },
  {
   "cell_type": "code",
   "execution_count": 75,
   "metadata": {
    "execution": {
     "iopub.execute_input": "2020-10-16T14:33:10.240777Z",
     "iopub.status.busy": "2020-10-16T14:33:10.239531Z",
     "iopub.status.idle": "2020-10-16T14:33:10.244973Z",
     "shell.execute_reply": "2020-10-16T14:33:10.245553Z"
    },
    "papermill": {
     "duration": 0.075472,
     "end_time": "2020-10-16T14:33:10.245739",
     "exception": false,
     "start_time": "2020-10-16T14:33:10.170267",
     "status": "completed"
    },
    "tags": []
   },
   "outputs": [],
   "source": [
    "df_X = df.drop(['Price', 'Id'], axis=1)\n",
    "df_y = df['Price']"
   ]
  },
  {
   "cell_type": "code",
   "execution_count": 94,
   "metadata": {
    "execution": {
     "iopub.execute_input": "2020-10-16T14:33:10.347455Z",
     "iopub.status.busy": "2020-10-16T14:33:10.346194Z",
     "iopub.status.idle": "2020-10-16T14:33:10.354162Z",
     "shell.execute_reply": "2020-10-16T14:33:10.354838Z"
    },
    "papermill": {
     "duration": 0.060224,
     "end_time": "2020-10-16T14:33:10.355009",
     "exception": false,
     "start_time": "2020-10-16T14:33:10.294785",
     "status": "completed"
    },
    "tags": []
   },
   "outputs": [],
   "source": [
    "X_train, X_valid, y_train, y_valid = train_test_split(df_X, df_y, test_size=0.2)\n",
    "X_test = df_test.drop(['Price', 'Id'], axis=1)\n",
    "y_test= df_test['Price']"
   ]
  },
  {
   "cell_type": "markdown",
   "metadata": {
    "papermill": {
     "duration": 0.045482,
     "end_time": "2020-10-16T14:33:10.446310",
     "exception": false,
     "start_time": "2020-10-16T14:33:10.400828",
     "status": "completed"
    },
    "tags": []
   },
   "source": [
    "# Simple linear regression"
   ]
  },
  {
   "cell_type": "code",
   "execution_count": 78,
   "metadata": {
    "execution": {
     "iopub.execute_input": "2020-10-16T14:33:10.544094Z",
     "iopub.status.busy": "2020-10-16T14:33:10.543197Z",
     "iopub.status.idle": "2020-10-16T14:33:10.591920Z",
     "shell.execute_reply": "2020-10-16T14:33:10.590932Z"
    },
    "papermill": {
     "duration": 0.101104,
     "end_time": "2020-10-16T14:33:10.592134",
     "exception": false,
     "start_time": "2020-10-16T14:33:10.491030",
     "status": "completed"
    },
    "tags": []
   },
   "outputs": [],
   "source": [
    "lm = LinearRegression()\n",
    "lm.fit(X_train, y_train)\n",
    "\n",
    "predictions = lm.predict(X_valid)"
   ]
  },
  {
   "cell_type": "code",
   "execution_count": 79,
   "metadata": {
    "execution": {
     "iopub.execute_input": "2020-10-16T14:33:10.698202Z",
     "iopub.status.busy": "2020-10-16T14:33:10.696893Z",
     "iopub.status.idle": "2020-10-16T14:33:10.896326Z",
     "shell.execute_reply": "2020-10-16T14:33:10.895610Z"
    },
    "papermill": {
     "duration": 0.259181,
     "end_time": "2020-10-16T14:33:10.896532",
     "exception": false,
     "start_time": "2020-10-16T14:33:10.637351",
     "status": "completed"
    },
    "tags": []
   },
   "outputs": [
    {
     "data": {
      "text/plain": [
       "Text(0, 0.5, 'Predicted Y')"
      ]
     },
     "execution_count": 79,
     "metadata": {},
     "output_type": "execute_result"
    },
    {
     "data": {
      "image/png": "[encoded data removed]",
      "text/plain": [
       "<Figure size 640x480 with 1 Axes>"
      ]
     },
     "metadata": {},
     "output_type": "display_data"
    }
   ],
   "source": [
    "plt.scatter(y_valid,predictions)\n",
    "plt.xlabel('Y Test')\n",
    "plt.ylabel('Predicted Y')"
   ]
  },
  {
   "cell_type": "code",
   "execution_count": 80,
   "metadata": {
    "execution": {
     "iopub.execute_input": "2020-10-16T14:33:10.996651Z",
     "iopub.status.busy": "2020-10-16T14:33:10.995646Z",
     "iopub.status.idle": "2020-10-16T14:33:11.000471Z",
     "shell.execute_reply": "2020-10-16T14:33:10.999796Z"
    },
    "papermill": {
     "duration": 0.05758,
     "end_time": "2020-10-16T14:33:11.000616",
     "exception": false,
     "start_time": "2020-10-16T14:33:10.943036",
     "status": "completed"
    },
    "tags": []
   },
   "outputs": [
    {
     "data": {
      "text/plain": [
       "0.021168746616157703"
      ]
     },
     "execution_count": 80,
     "metadata": {},
     "output_type": "execute_result"
    }
   ],
   "source": [
    "mean_squared_error(y_valid, predictions)"
   ]
  },
  {
   "cell_type": "code",
   "execution_count": 81,
   "metadata": {
    "execution": {
     "iopub.execute_input": "2020-10-16T14:33:11.103941Z",
     "iopub.status.busy": "2020-10-16T14:33:11.102752Z",
     "iopub.status.idle": "2020-10-16T14:33:11.107445Z",
     "shell.execute_reply": "2020-10-16T14:33:11.106642Z"
    },
    "papermill": {
     "duration": 0.059973,
     "end_time": "2020-10-16T14:33:11.107582",
     "exception": false,
     "start_time": "2020-10-16T14:33:11.047609",
     "status": "completed"
    },
    "tags": []
   },
   "outputs": [
    {
     "data": {
      "text/plain": [
       "0.004200074068410154"
      ]
     },
     "execution_count": 81,
     "metadata": {},
     "output_type": "execute_result"
    }
   ],
   "source": [
    "np.sqrt(mean_squared_error(y_valid, predictions) / 1200)"
   ]
  },
  {
   "cell_type": "code",
   "execution_count": 82,
   "metadata": {
    "execution": {
     "iopub.execute_input": "2020-10-16T14:33:11.211211Z",
     "iopub.status.busy": "2020-10-16T14:33:11.210136Z",
     "iopub.status.idle": "2020-10-16T14:33:11.329157Z",
     "shell.execute_reply": "2020-10-16T14:33:11.328352Z"
    },
    "papermill": {
     "duration": 0.172998,
     "end_time": "2020-10-16T14:33:11.329292",
     "exception": false,
     "start_time": "2020-10-16T14:33:11.156294",
     "status": "completed"
    },
    "tags": []
   },
   "outputs": [
    {
     "data": {
      "text/plain": [
       "1.2808603651713995"
      ]
     },
     "execution_count": 82,
     "metadata": {},
     "output_type": "execute_result"
    }
   ],
   "source": [
    "# MAPE\n",
    "\n",
    "np.mean(np.abs((y_valid - predictions) / y_valid)) * 100"
   ]
  },
  {
   "cell_type": "markdown",
   "metadata": {
    "papermill": {
     "duration": 0.048931,
     "end_time": "2020-10-16T14:33:11.426654",
     "exception": false,
     "start_time": "2020-10-16T14:33:11.377723",
     "status": "completed"
    },
    "tags": []
   },
   "source": [
    "# Adding Polynomial features"
   ]
  },
  {
   "cell_type": "code",
   "execution_count": 83,
   "metadata": {
    "execution": {
     "iopub.execute_input": "2020-10-16T14:33:11.532264Z",
     "iopub.status.busy": "2020-10-16T14:33:11.531035Z",
     "iopub.status.idle": "2020-10-16T14:33:11.535673Z",
     "shell.execute_reply": "2020-10-16T14:33:11.534888Z"
    },
    "papermill": {
     "duration": 0.059675,
     "end_time": "2020-10-16T14:33:11.535826",
     "exception": false,
     "start_time": "2020-10-16T14:33:11.476151",
     "status": "completed"
    },
    "tags": []
   },
   "outputs": [
    {
     "data": {
      "text/plain": [
       "(960, 7)"
      ]
     },
     "execution_count": 83,
     "metadata": {},
     "output_type": "execute_result"
    }
   ],
   "source": [
    "X_valid.shape"
   ]
  },
  {
   "cell_type": "code",
   "execution_count": 84,
   "metadata": {
    "execution": {
     "iopub.execute_input": "2020-10-16T14:33:11.639569Z",
     "iopub.status.busy": "2020-10-16T14:33:11.638663Z",
     "iopub.status.idle": "2020-10-16T14:33:11.643595Z",
     "shell.execute_reply": "2020-10-16T14:33:11.642805Z"
    },
    "papermill": {
     "duration": 0.058943,
     "end_time": "2020-10-16T14:33:11.643733",
     "exception": false,
     "start_time": "2020-10-16T14:33:11.584790",
     "status": "completed"
    },
    "tags": []
   },
   "outputs": [
    {
     "data": {
      "text/plain": [
       "(1200, 7)"
      ]
     },
     "execution_count": 84,
     "metadata": {},
     "output_type": "execute_result"
    }
   ],
   "source": [
    "X_test.shape"
   ]
  },
  {
   "cell_type": "code",
   "execution_count": 86,
   "metadata": {
    "execution": {
     "iopub.execute_input": "2020-10-16T14:33:11.754967Z",
     "iopub.status.busy": "2020-10-16T14:33:11.754064Z",
     "iopub.status.idle": "2020-10-16T14:33:11.774610Z",
     "shell.execute_reply": "2020-10-16T14:33:11.773876Z"
    },
    "papermill": {
     "duration": 0.081565,
     "end_time": "2020-10-16T14:33:11.774751",
     "exception": false,
     "start_time": "2020-10-16T14:33:11.693186",
     "status": "completed"
    },
    "tags": []
   },
   "outputs": [],
   "source": [
    "poly_features = PolynomialFeatures(degree=3, include_bias=False)\n",
    "\n",
    "X_train_poly = poly_features.fit_transform(X_train)\n",
    "X_valid_poly = poly_features.transform(X_valid)\n",
    "X_test_poly = poly_features.transform(X_test)"
   ]
  },
  {
   "cell_type": "code",
   "execution_count": 87,
   "metadata": {
    "execution": {
     "iopub.execute_input": "2020-10-16T14:33:11.879864Z",
     "iopub.status.busy": "2020-10-16T14:33:11.878817Z",
     "iopub.status.idle": "2020-10-16T14:33:11.882378Z",
     "shell.execute_reply": "2020-10-16T14:33:11.881651Z"
    },
    "papermill": {
     "duration": 0.058019,
     "end_time": "2020-10-16T14:33:11.882545",
     "exception": false,
     "start_time": "2020-10-16T14:33:11.824526",
     "status": "completed"
    },
    "tags": []
   },
   "outputs": [],
   "source": [
    "lm_poly = LinearRegression()"
   ]
  },
  {
   "cell_type": "code",
   "execution_count": 88,
   "metadata": {
    "execution": {
     "iopub.execute_input": "2020-10-16T14:33:11.989318Z",
     "iopub.status.busy": "2020-10-16T14:33:11.988332Z",
     "iopub.status.idle": "2020-10-16T14:33:12.029234Z",
     "shell.execute_reply": "2020-10-16T14:33:12.028521Z"
    },
    "papermill": {
     "duration": 0.096706,
     "end_time": "2020-10-16T14:33:12.029370",
     "exception": false,
     "start_time": "2020-10-16T14:33:11.932664",
     "status": "completed"
    },
    "tags": []
   },
   "outputs": [],
   "source": [
    "lm_poly.fit(X_train_poly, y_train)\n",
    "\n",
    "predictions_poly = lm_poly.predict(X_valid_poly)"
   ]
  },
  {
   "cell_type": "code",
   "execution_count": 89,
   "metadata": {
    "execution": {
     "iopub.execute_input": "2020-10-16T14:33:12.151733Z",
     "iopub.status.busy": "2020-10-16T14:33:12.144461Z",
     "iopub.status.idle": "2020-10-16T14:33:12.328383Z",
     "shell.execute_reply": "2020-10-16T14:33:12.327692Z"
    },
    "papermill": {
     "duration": 0.247783,
     "end_time": "2020-10-16T14:33:12.328576",
     "exception": false,
     "start_time": "2020-10-16T14:33:12.080793",
     "status": "completed"
    },
    "tags": []
   },
   "outputs": [
    {
     "data": {
      "text/plain": [
       "Text(0, 0.5, 'Predicted Y')"
      ]
     },
     "execution_count": 89,
     "metadata": {},
     "output_type": "execute_result"
    },
    {
     "data": {
      "image/png": "[encoded data removed]",
      "text/plain": [
       "<Figure size 640x480 with 1 Axes>"
      ]
     },
     "metadata": {},
     "output_type": "display_data"
    }
   ],
   "source": [
    "plt.scatter(y_valid,predictions_poly)\n",
    "plt.xlabel('Y Test')\n",
    "plt.ylabel('Predicted Y')"
   ]
  },
  {
   "cell_type": "code",
   "execution_count": 90,
   "metadata": {
    "execution": {
     "iopub.execute_input": "2020-10-16T14:33:12.440196Z",
     "iopub.status.busy": "2020-10-16T14:33:12.439335Z",
     "iopub.status.idle": "2020-10-16T14:33:12.443698Z",
     "shell.execute_reply": "2020-10-16T14:33:12.443067Z"
    },
    "papermill": {
     "duration": 0.063288,
     "end_time": "2020-10-16T14:33:12.443825",
     "exception": false,
     "start_time": "2020-10-16T14:33:12.380537",
     "status": "completed"
    },
    "tags": []
   },
   "outputs": [
    {
     "data": {
      "text/plain": [
       "0.6963467838204798"
      ]
     },
     "execution_count": 90,
     "metadata": {},
     "output_type": "execute_result"
    }
   ],
   "source": [
    "# MAPE\n",
    "\n",
    "np.mean(np.abs((y_valid - predictions_poly) / y_valid)) * 100"
   ]
  },
  {
   "cell_type": "code",
   "execution_count": 100,
   "metadata": {},
   "outputs": [
    {
     "data": {
      "text/plain": [
       "1.0754416204646486"
      ]
     },
     "execution_count": 100,
     "metadata": {},
     "output_type": "execute_result"
    }
   ],
   "source": [
    "mean_squared_error(y_valid, predictions)"
   ]
  },
  {
   "cell_type": "code",
   "execution_count": 101,
   "metadata": {},
   "outputs": [
    {
     "data": {
      "text/plain": [
       "0.029936622227419166"
      ]
     },
     "execution_count": 101,
     "metadata": {},
     "output_type": "execute_result"
    }
   ],
   "source": [
    "np.sqrt(mean_squared_error(y_valid, predictions) / 1200)"
   ]
  },
  {
   "cell_type": "markdown",
   "metadata": {
    "papermill": {
     "duration": 0.052356,
     "end_time": "2020-10-16T14:33:12.548272",
     "exception": false,
     "start_time": "2020-10-16T14:33:12.495916",
     "status": "completed"
    },
    "tags": []
   },
   "source": [
    "# Neural Network Approach\n",
    "\n",
    "The predictions do not look totally unreasoanble using the linear regression approach. However, it is evident that the model is not doing a good job of predicting the most expensive diamonds, indicating that there may be more complex relationships at play than pure linear coefficients. As such, we can use a simple neural network in order to try and understand some of the more nuanced relationships. Note this could have been done using linear combinations of variables, but with no domain knowledge, I consider this approach more straightforward (especially since we are looking to predict, not to explain relationships) "
   ]
  },
  {
   "cell_type": "code",
   "execution_count": 92,
   "metadata": {
    "execution": {
     "iopub.execute_input": "2020-10-16T14:33:12.660038Z",
     "iopub.status.busy": "2020-10-16T14:33:12.659139Z",
     "iopub.status.idle": "2020-10-16T14:33:17.854273Z",
     "shell.execute_reply": "2020-10-16T14:33:17.853470Z"
    },
    "papermill": {
     "duration": 5.253548,
     "end_time": "2020-10-16T14:33:17.854405",
     "exception": false,
     "start_time": "2020-10-16T14:33:12.600857",
     "status": "completed"
    },
    "tags": []
   },
   "outputs": [],
   "source": [
    "import tensorflow as tf\n",
    "from tensorflow import keras\n",
    "from sklearn.preprocessing import StandardScaler"
   ]
  },
  {
   "cell_type": "code",
   "execution_count": 93,
   "metadata": {
    "execution": {
     "iopub.execute_input": "2020-10-16T14:33:17.968008Z",
     "iopub.status.busy": "2020-10-16T14:33:17.967181Z",
     "iopub.status.idle": "2020-10-16T14:33:17.978620Z",
     "shell.execute_reply": "2020-10-16T14:33:17.979195Z"
    },
    "papermill": {
     "duration": 0.072164,
     "end_time": "2020-10-16T14:33:17.979370",
     "exception": false,
     "start_time": "2020-10-16T14:33:17.907206",
     "status": "completed"
    },
    "tags": []
   },
   "outputs": [],
   "source": [
    "scaler = StandardScaler()\n",
    "\n",
    "X_train_nn = scaler.fit_transform(X_train)\n",
    "X_valid_nn = scaler.transform(X_valid)\n",
    "X_test_nn = scaler.transform(X_test)"
   ]
  },
  {
   "cell_type": "code",
   "execution_count": 54,
   "metadata": {
    "execution": {
     "iopub.execute_input": "2020-10-16T14:33:18.097304Z",
     "iopub.status.busy": "2020-10-16T14:33:18.096348Z",
     "iopub.status.idle": "2020-10-16T14:33:18.182683Z",
     "shell.execute_reply": "2020-10-16T14:33:18.182016Z"
    },
    "papermill": {
     "duration": 0.150303,
     "end_time": "2020-10-16T14:33:18.182828",
     "exception": false,
     "start_time": "2020-10-16T14:33:18.032525",
     "status": "completed"
    },
    "tags": []
   },
   "outputs": [],
   "source": [
    "model = keras.models.Sequential([\n",
    "    keras.layers.Dense(28, activation = 'relu'),\n",
    "    keras.layers.Dense(28, activation = 'relu'), \n",
    "    keras.layers.Dense(14, activation = 'relu'),\n",
    "    keras.layers.Dense(7, activation = 'relu'),\n",
    "    keras.layers.Dense(1)\n",
    "])\n",
    "\n",
    "model.compile(loss=\"mean_squared_error\", optimizer=\"adam\")\n",
    "\n",
    "early_stopping_cb = keras.callbacks.EarlyStopping(patience=10, restore_best_weights=True)"
   ]
  },
  {
   "cell_type": "code",
   "execution_count": 55,
   "metadata": {
    "execution": {
     "iopub.execute_input": "2020-10-16T14:33:18.295562Z",
     "iopub.status.busy": "2020-10-16T14:33:18.294663Z",
     "iopub.status.idle": "2020-10-16T14:33:41.408793Z",
     "shell.execute_reply": "2020-10-16T14:33:41.407955Z"
    },
    "papermill": {
     "duration": 23.173758,
     "end_time": "2020-10-16T14:33:41.408936",
     "exception": false,
     "start_time": "2020-10-16T14:33:18.235178",
     "status": "completed"
    },
    "tags": []
   },
   "outputs": [
    {
     "name": "stdout",
     "output_type": "stream",
     "text": [
      "Epoch 1/200\n",
      "150/150 [==============================] - 2s 4ms/step - loss: 25.5233 - val_loss: 2.4311\n",
      "Epoch 2/200\n",
      "150/150 [==============================] - 0s 3ms/step - loss: 1.8909 - val_loss: 1.5354\n",
      "Epoch 3/200\n",
      "150/150 [==============================] - 0s 2ms/step - loss: 1.2886 - val_loss: 1.0628\n",
      "Epoch 4/200\n",
      "150/150 [==============================] - 0s 2ms/step - loss: 0.8796 - val_loss: 0.6993\n",
      "Epoch 5/200\n",
      "150/150 [==============================] - 0s 3ms/step - loss: 0.5622 - val_loss: 0.4375\n",
      "Epoch 6/200\n",
      "150/150 [==============================] - 0s 2ms/step - loss: 0.3345 - val_loss: 0.2515\n",
      "Epoch 7/200\n",
      "150/150 [==============================] - 0s 3ms/step - loss: 0.1843 - val_loss: 0.1394\n",
      "Epoch 8/200\n",
      "150/150 [==============================] - 0s 2ms/step - loss: 0.1022 - val_loss: 0.0857\n",
      "Epoch 9/200\n",
      "150/150 [==============================] - 0s 2ms/step - loss: 0.0627 - val_loss: 0.0599\n",
      "Epoch 10/200\n",
      "150/150 [==============================] - 0s 3ms/step - loss: 0.0450 - val_loss: 0.0456\n",
      "Epoch 11/200\n",
      "150/150 [==============================] - 0s 2ms/step - loss: 0.0347 - val_loss: 0.0369\n",
      "Epoch 12/200\n",
      "150/150 [==============================] - 0s 3ms/step - loss: 0.0289 - val_loss: 0.0311\n",
      "Epoch 13/200\n",
      "150/150 [==============================] - 0s 3ms/step - loss: 0.0249 - val_loss: 0.0274\n",
      "Epoch 14/200\n",
      "150/150 [==============================] - 0s 2ms/step - loss: 0.0217 - val_loss: 0.0242\n",
      "Epoch 15/200\n",
      "150/150 [==============================] - 0s 2ms/step - loss: 0.0198 - val_loss: 0.0249\n",
      "Epoch 16/200\n",
      "150/150 [==============================] - 0s 2ms/step - loss: 0.0182 - val_loss: 0.0219\n",
      "Epoch 17/200\n",
      "150/150 [==============================] - 0s 2ms/step - loss: 0.0170 - val_loss: 0.0193\n",
      "Epoch 18/200\n",
      "150/150 [==============================] - 0s 3ms/step - loss: 0.0156 - val_loss: 0.0188\n",
      "Epoch 19/200\n",
      "150/150 [==============================] - 0s 3ms/step - loss: 0.0148 - val_loss: 0.0166\n",
      "Epoch 20/200\n",
      "150/150 [==============================] - 0s 2ms/step - loss: 0.0139 - val_loss: 0.0169\n",
      "Epoch 21/200\n",
      "150/150 [==============================] - 0s 3ms/step - loss: 0.0137 - val_loss: 0.0151\n",
      "Epoch 22/200\n",
      "150/150 [==============================] - 0s 2ms/step - loss: 0.0124 - val_loss: 0.0139\n",
      "Epoch 23/200\n",
      "150/150 [==============================] - 0s 2ms/step - loss: 0.0120 - val_loss: 0.0134\n",
      "Epoch 24/200\n",
      "150/150 [==============================] - 0s 3ms/step - loss: 0.0118 - val_loss: 0.0129\n",
      "Epoch 25/200\n",
      "150/150 [==============================] - 0s 3ms/step - loss: 0.0113 - val_loss: 0.0123\n",
      "Epoch 26/200\n",
      "150/150 [==============================] - 0s 3ms/step - loss: 0.0110 - val_loss: 0.0132\n",
      "Epoch 27/200\n",
      "150/150 [==============================] - 0s 3ms/step - loss: 0.0103 - val_loss: 0.0109\n",
      "Epoch 28/200\n",
      "150/150 [==============================] - 0s 3ms/step - loss: 0.0106 - val_loss: 0.0113\n",
      "Epoch 29/200\n",
      "150/150 [==============================] - 0s 3ms/step - loss: 0.0099 - val_loss: 0.0110\n",
      "Epoch 30/200\n",
      "150/150 [==============================] - 0s 3ms/step - loss: 0.0097 - val_loss: 0.0122\n",
      "Epoch 31/200\n",
      "150/150 [==============================] - 0s 3ms/step - loss: 0.0094 - val_loss: 0.0098\n",
      "Epoch 32/200\n",
      "150/150 [==============================] - 0s 3ms/step - loss: 0.0096 - val_loss: 0.0157\n",
      "Epoch 33/200\n",
      "150/150 [==============================] - 0s 3ms/step - loss: 0.0091 - val_loss: 0.0104\n",
      "Epoch 34/200\n",
      "150/150 [==============================] - 0s 3ms/step - loss: 0.0084 - val_loss: 0.0101\n",
      "Epoch 35/200\n",
      "150/150 [==============================] - 0s 3ms/step - loss: 0.0082 - val_loss: 0.0130\n",
      "Epoch 36/200\n",
      "150/150 [==============================] - 0s 3ms/step - loss: 0.0081 - val_loss: 0.0091\n",
      "Epoch 37/200\n",
      "150/150 [==============================] - 0s 3ms/step - loss: 0.0086 - val_loss: 0.0083\n",
      "Epoch 38/200\n",
      "150/150 [==============================] - 0s 3ms/step - loss: 0.0078 - val_loss: 0.0083\n",
      "Epoch 39/200\n",
      "150/150 [==============================] - 0s 2ms/step - loss: 0.0090 - val_loss: 0.0104\n",
      "Epoch 40/200\n",
      "150/150 [==============================] - 0s 2ms/step - loss: 0.0080 - val_loss: 0.0091\n",
      "Epoch 41/200\n",
      "150/150 [==============================] - 0s 2ms/step - loss: 0.0083 - val_loss: 0.0086\n",
      "Epoch 42/200\n",
      "150/150 [==============================] - 0s 2ms/step - loss: 0.0078 - val_loss: 0.0119\n",
      "Epoch 43/200\n",
      "150/150 [==============================] - 0s 3ms/step - loss: 0.0080 - val_loss: 0.0109\n",
      "Epoch 44/200\n",
      "150/150 [==============================] - 0s 3ms/step - loss: 0.0079 - val_loss: 0.0085\n",
      "Epoch 45/200\n",
      "150/150 [==============================] - 0s 2ms/step - loss: 0.0074 - val_loss: 0.0072\n",
      "Epoch 46/200\n",
      "150/150 [==============================] - 0s 3ms/step - loss: 0.0076 - val_loss: 0.0078\n",
      "Epoch 47/200\n",
      "150/150 [==============================] - 0s 2ms/step - loss: 0.0075 - val_loss: 0.0088\n",
      "Epoch 48/200\n",
      "150/150 [==============================] - 0s 3ms/step - loss: 0.0072 - val_loss: 0.0078\n",
      "Epoch 49/200\n",
      "150/150 [==============================] - 0s 3ms/step - loss: 0.0076 - val_loss: 0.0093\n",
      "Epoch 50/200\n",
      "150/150 [==============================] - 0s 2ms/step - loss: 0.0073 - val_loss: 0.0077\n",
      "Epoch 51/200\n",
      "150/150 [==============================] - 0s 2ms/step - loss: 0.0074 - val_loss: 0.0070\n",
      "Epoch 52/200\n",
      "150/150 [==============================] - 0s 2ms/step - loss: 0.0072 - val_loss: 0.0074\n",
      "Epoch 53/200\n",
      "150/150 [==============================] - 0s 2ms/step - loss: 0.0072 - val_loss: 0.0068\n",
      "Epoch 54/200\n",
      "150/150 [==============================] - 0s 2ms/step - loss: 0.0079 - val_loss: 0.0072\n",
      "Epoch 55/200\n",
      "150/150 [==============================] - 0s 2ms/step - loss: 0.0070 - val_loss: 0.0077\n",
      "Epoch 56/200\n",
      "150/150 [==============================] - 0s 2ms/step - loss: 0.0078 - val_loss: 0.0113\n",
      "Epoch 57/200\n",
      "150/150 [==============================] - 0s 3ms/step - loss: 0.0073 - val_loss: 0.0071\n",
      "Epoch 58/200\n",
      "150/150 [==============================] - 0s 2ms/step - loss: 0.0068 - val_loss: 0.0079\n",
      "Epoch 59/200\n",
      "150/150 [==============================] - 0s 3ms/step - loss: 0.0069 - val_loss: 0.0084\n",
      "Epoch 60/200\n",
      "150/150 [==============================] - 0s 3ms/step - loss: 0.0062 - val_loss: 0.0065\n",
      "Epoch 61/200\n",
      "150/150 [==============================] - 0s 2ms/step - loss: 0.0069 - val_loss: 0.0088\n",
      "Epoch 62/200\n",
      "150/150 [==============================] - 0s 3ms/step - loss: 0.0065 - val_loss: 0.0068\n",
      "Epoch 63/200\n",
      "150/150 [==============================] - 0s 3ms/step - loss: 0.0065 - val_loss: 0.0085\n",
      "Epoch 64/200\n",
      "150/150 [==============================] - 0s 2ms/step - loss: 0.0060 - val_loss: 0.0068\n",
      "Epoch 65/200\n",
      "150/150 [==============================] - 0s 3ms/step - loss: 0.0064 - val_loss: 0.0071\n",
      "Epoch 66/200\n",
      "150/150 [==============================] - 0s 3ms/step - loss: 0.0064 - val_loss: 0.0073\n",
      "Epoch 67/200\n",
      "150/150 [==============================] - 0s 3ms/step - loss: 0.0064 - val_loss: 0.0127\n",
      "Epoch 68/200\n",
      "150/150 [==============================] - 0s 3ms/step - loss: 0.0074 - val_loss: 0.0071\n",
      "Epoch 69/200\n",
      "150/150 [==============================] - 0s 3ms/step - loss: 0.0064 - val_loss: 0.0066\n",
      "Epoch 70/200\n",
      "150/150 [==============================] - 0s 3ms/step - loss: 0.0059 - val_loss: 0.0114\n"
     ]
    },
    {
     "data": {
      "text/plain": [
       "<keras.src.callbacks.History at 0x282b773dd90>"
      ]
     },
     "execution_count": 55,
     "metadata": {},
     "output_type": "execute_result"
    }
   ],
   "source": [
    "model.fit(X_train_nn, y_train, epochs=200, validation_data=(X_valid_nn, y_valid), callbacks=[early_stopping_cb])"
   ]
  },
  {
   "cell_type": "code",
   "execution_count": 56,
   "metadata": {
    "execution": {
     "iopub.execute_input": "2020-10-16T14:33:41.929880Z",
     "iopub.status.busy": "2020-10-16T14:33:41.928925Z",
     "iopub.status.idle": "2020-10-16T14:33:42.305355Z",
     "shell.execute_reply": "2020-10-16T14:33:42.304455Z"
    },
    "papermill": {
     "duration": 0.644274,
     "end_time": "2020-10-16T14:33:42.305529",
     "exception": false,
     "start_time": "2020-10-16T14:33:41.661255",
     "status": "completed"
    },
    "tags": []
   },
   "outputs": [
    {
     "name": "stdout",
     "output_type": "stream",
     "text": [
      "38/38 [==============================] - 0s 2ms/step\n"
     ]
    },
    {
     "data": {
      "text/plain": [
       "Text(0, 0.5, 'Predicted Y')"
      ]
     },
     "execution_count": 56,
     "metadata": {},
     "output_type": "execute_result"
    },
    {
     "data": {
      "image/png": "[encoded data removed]",
      "text/plain": [
       "<Figure size 640x480 with 1 Axes>"
      ]
     },
     "metadata": {},
     "output_type": "display_data"
    }
   ],
   "source": [
    "predictions_nn = model.predict(X_valid_nn)\n",
    "\n",
    "plt.scatter(y_valid,predictions_nn)\n",
    "plt.xlabel('Y Test')\n",
    "plt.ylabel('Predicted Y')"
   ]
  },
  {
   "cell_type": "code",
   "execution_count": 57,
   "metadata": {
    "execution": {
     "iopub.execute_input": "2020-10-16T14:33:42.822334Z",
     "iopub.status.busy": "2020-10-16T14:33:42.821290Z",
     "iopub.status.idle": "2020-10-16T14:33:42.826556Z",
     "shell.execute_reply": "2020-10-16T14:33:42.825927Z"
    },
    "papermill": {
     "duration": 0.26606,
     "end_time": "2020-10-16T14:33:42.826691",
     "exception": false,
     "start_time": "2020-10-16T14:33:42.560631",
     "status": "completed"
    },
    "tags": []
   },
   "outputs": [
    {
     "data": {
      "text/plain": [
       "0.006549411149365739"
      ]
     },
     "execution_count": 57,
     "metadata": {},
     "output_type": "execute_result"
    }
   ],
   "source": [
    "mean_squared_error(y_valid, predictions_nn)"
   ]
  },
  {
   "cell_type": "code",
   "execution_count": 58,
   "metadata": {
    "execution": {
     "iopub.execute_input": "2020-10-16T14:33:43.344138Z",
     "iopub.status.busy": "2020-10-16T14:33:43.342999Z",
     "iopub.status.idle": "2020-10-16T14:33:43.347621Z",
     "shell.execute_reply": "2020-10-16T14:33:43.346963Z"
    },
    "papermill": {
     "duration": 0.267102,
     "end_time": "2020-10-16T14:33:43.347770",
     "exception": false,
     "start_time": "2020-10-16T14:33:43.080668",
     "status": "completed"
    },
    "tags": []
   },
   "outputs": [
    {
     "data": {
      "text/plain": [
       "0.0023362026077529"
      ]
     },
     "execution_count": 58,
     "metadata": {},
     "output_type": "execute_result"
    }
   ],
   "source": [
    "np.sqrt(mean_squared_error(y_valid, predictions_nn) / 1200)"
   ]
  },
  {
   "cell_type": "code",
   "execution_count": 59,
   "metadata": {
    "execution": {
     "iopub.execute_input": "2020-10-16T14:33:43.903650Z",
     "iopub.status.busy": "2020-10-16T14:33:43.902684Z",
     "iopub.status.idle": "2020-10-16T14:33:43.907027Z",
     "shell.execute_reply": "2020-10-16T14:33:43.906348Z"
    },
    "papermill": {
     "duration": 0.306584,
     "end_time": "2020-10-16T14:33:43.907188",
     "exception": false,
     "start_time": "2020-10-16T14:33:43.600604",
     "status": "completed"
    },
    "tags": []
   },
   "outputs": [
    {
     "data": {
      "text/plain": [
       "(1200,)"
      ]
     },
     "execution_count": 59,
     "metadata": {},
     "output_type": "execute_result"
    }
   ],
   "source": [
    "predictions_nn.ravel().shape"
   ]
  },
  {
   "cell_type": "code",
   "execution_count": 60,
   "metadata": {
    "execution": {
     "iopub.execute_input": "2020-10-16T14:33:44.424647Z",
     "iopub.status.busy": "2020-10-16T14:33:44.423592Z",
     "iopub.status.idle": "2020-10-16T14:33:44.427823Z",
     "shell.execute_reply": "2020-10-16T14:33:44.428580Z"
    },
    "papermill": {
     "duration": 0.264648,
     "end_time": "2020-10-16T14:33:44.428805",
     "exception": false,
     "start_time": "2020-10-16T14:33:44.164157",
     "status": "completed"
    },
    "tags": []
   },
   "outputs": [
    {
     "data": {
      "text/plain": [
       "0.6828382572140803"
      ]
     },
     "execution_count": 60,
     "metadata": {},
     "output_type": "execute_result"
    }
   ],
   "source": [
    "# MAPE\n",
    "\n",
    "np.mean(np.abs((y_valid - predictions_nn.ravel()) / y_valid)) * 100"
   ]
  },
  {
   "cell_type": "markdown",
   "metadata": {
    "papermill": {
     "duration": 0.254682,
     "end_time": "2020-10-16T14:33:44.940923",
     "exception": false,
     "start_time": "2020-10-16T14:33:44.686241",
     "status": "completed"
    },
    "tags": []
   },
   "source": [
    "# Outputting predictions as csv file for download"
   ]
  },
  {
   "cell_type": "code",
   "execution_count": 39,
   "metadata": {
    "execution": {
     "iopub.execute_input": "2020-10-16T14:33:45.506579Z",
     "iopub.status.busy": "2020-10-16T14:33:45.505773Z",
     "iopub.status.idle": "2020-10-16T14:33:45.757071Z",
     "shell.execute_reply": "2020-10-16T14:33:45.756015Z"
    },
    "papermill": {
     "duration": 0.562769,
     "end_time": "2020-10-16T14:33:45.757234",
     "exception": false,
     "start_time": "2020-10-16T14:33:45.194465",
     "status": "completed"
    },
    "tags": []
   },
   "outputs": [],
   "source": [
    "test_predictions = np.exp(lm.predict(X_test))\n",
    "test_predictions_nn = np.exp(model.predict(X_test))\n",
    "\n",
    "test_predictions_poly = np.exp(lm_poly.predict(X_test_poly))\n",
    "\n",
    "ensemble_predictions = (test_predictions_nn + test_predictions_poly) / 2\n",
    "\n",
    "preds = {'lm':test_predictions, 'nn':test_predictions_nn, 'poly_lm': test_predictions_poly, 'ensemble': ensemble_predictions}"
   ]
  },
  {
   "cell_type": "code",
   "execution_count": 99,
   "metadata": {},
   "outputs": [
    {
     "data": {
      "text/html": [
       "<div>\n",
       "<style scoped>\n",
       "    .dataframe tbody tr th:only-of-type {\n",
       "        vertical-align: middle;\n",
       "    }\n",
       "\n",
       "    .dataframe tbody tr th {\n",
       "        vertical-align: top;\n",
       "    }\n",
       "\n",
       "    .dataframe thead th {\n",
       "        text-align: right;\n",
       "    }\n",
       "</style>\n",
       "<table border=\"1\" class=\"dataframe\">\n",
       "  <thead>\n",
       "    <tr style=\"text-align: right;\">\n",
       "      <th></th>\n",
       "      <th>Carat Weight</th>\n",
       "      <th>Cut</th>\n",
       "      <th>Color</th>\n",
       "      <th>Clarity</th>\n",
       "      <th>Polish</th>\n",
       "      <th>Symmetry</th>\n",
       "      <th>Report_GIA</th>\n",
       "    </tr>\n",
       "  </thead>\n",
       "  <tbody>\n",
       "    <tr>\n",
       "      <th>0</th>\n",
       "      <td>0.83</td>\n",
       "      <td>5</td>\n",
       "      <td>3</td>\n",
       "      <td>3</td>\n",
       "      <td>4</td>\n",
       "      <td>4</td>\n",
       "      <td>0</td>\n",
       "    </tr>\n",
       "    <tr>\n",
       "      <th>1</th>\n",
       "      <td>0.91</td>\n",
       "      <td>5</td>\n",
       "      <td>7</td>\n",
       "      <td>2</td>\n",
       "      <td>2</td>\n",
       "      <td>2</td>\n",
       "      <td>1</td>\n",
       "    </tr>\n",
       "    <tr>\n",
       "      <th>2</th>\n",
       "      <td>1.28</td>\n",
       "      <td>4</td>\n",
       "      <td>2</td>\n",
       "      <td>3</td>\n",
       "      <td>3</td>\n",
       "      <td>2</td>\n",
       "      <td>1</td>\n",
       "    </tr>\n",
       "    <tr>\n",
       "      <th>3</th>\n",
       "      <td>2.02</td>\n",
       "      <td>4</td>\n",
       "      <td>2</td>\n",
       "      <td>1</td>\n",
       "      <td>1</td>\n",
       "      <td>1</td>\n",
       "      <td>1</td>\n",
       "    </tr>\n",
       "    <tr>\n",
       "      <th>4</th>\n",
       "      <td>2.41</td>\n",
       "      <td>4</td>\n",
       "      <td>3</td>\n",
       "      <td>2</td>\n",
       "      <td>3</td>\n",
       "      <td>3</td>\n",
       "      <td>1</td>\n",
       "    </tr>\n",
       "    <tr>\n",
       "      <th>...</th>\n",
       "      <td>...</td>\n",
       "      <td>...</td>\n",
       "      <td>...</td>\n",
       "      <td>...</td>\n",
       "      <td>...</td>\n",
       "      <td>...</td>\n",
       "      <td>...</td>\n",
       "    </tr>\n",
       "    <tr>\n",
       "      <th>1195</th>\n",
       "      <td>1.02</td>\n",
       "      <td>4</td>\n",
       "      <td>7</td>\n",
       "      <td>1</td>\n",
       "      <td>3</td>\n",
       "      <td>3</td>\n",
       "      <td>1</td>\n",
       "    </tr>\n",
       "    <tr>\n",
       "      <th>1196</th>\n",
       "      <td>1.00</td>\n",
       "      <td>3</td>\n",
       "      <td>6</td>\n",
       "      <td>1</td>\n",
       "      <td>3</td>\n",
       "      <td>3</td>\n",
       "      <td>1</td>\n",
       "    </tr>\n",
       "    <tr>\n",
       "      <th>1197</th>\n",
       "      <td>0.90</td>\n",
       "      <td>3</td>\n",
       "      <td>3</td>\n",
       "      <td>1</td>\n",
       "      <td>2</td>\n",
       "      <td>2</td>\n",
       "      <td>1</td>\n",
       "    </tr>\n",
       "    <tr>\n",
       "      <th>1198</th>\n",
       "      <td>2.43</td>\n",
       "      <td>5</td>\n",
       "      <td>2</td>\n",
       "      <td>6</td>\n",
       "      <td>3</td>\n",
       "      <td>2</td>\n",
       "      <td>1</td>\n",
       "    </tr>\n",
       "    <tr>\n",
       "      <th>1199</th>\n",
       "      <td>1.24</td>\n",
       "      <td>5</td>\n",
       "      <td>5</td>\n",
       "      <td>2</td>\n",
       "      <td>2</td>\n",
       "      <td>2</td>\n",
       "      <td>1</td>\n",
       "    </tr>\n",
       "  </tbody>\n",
       "</table>\n",
       "<p>1200 rows × 7 columns</p>\n",
       "</div>"
      ],
      "text/plain": [
       "      Carat Weight  Cut  Color  Clarity  Polish  Symmetry  Report_GIA\n",
       "0             0.83    5      3        3       4         4           0\n",
       "1             0.91    5      7        2       2         2           1\n",
       "2             1.28    4      2        3       3         2           1\n",
       "3             2.02    4      2        1       1         1           1\n",
       "4             2.41    4      3        2       3         3           1\n",
       "...            ...  ...    ...      ...     ...       ...         ...\n",
       "1195          1.02    4      7        1       3         3           1\n",
       "1196          1.00    3      6        1       3         3           1\n",
       "1197          0.90    3      3        1       2         2           1\n",
       "1198          2.43    5      2        6       3         2           1\n",
       "1199          1.24    5      5        2       2         2           1\n",
       "\n",
       "[1200 rows x 7 columns]"
      ]
     },
     "execution_count": 99,
     "metadata": {},
     "output_type": "execute_result"
    }
   ],
   "source": [
    "X_test"
   ]
  },
  {
   "cell_type": "code",
   "execution_count": 40,
   "metadata": {
    "execution": {
     "iopub.execute_input": "2020-10-16T14:33:46.273409Z",
     "iopub.status.busy": "2020-10-16T14:33:46.272097Z",
     "iopub.status.idle": "2020-10-16T14:33:46.277541Z",
     "shell.execute_reply": "2020-10-16T14:33:46.276848Z"
    },
    "papermill": {
     "duration": 0.267202,
     "end_time": "2020-10-16T14:33:46.277701",
     "exception": false,
     "start_time": "2020-10-16T14:33:46.010499",
     "status": "completed"
    },
    "tags": []
   },
   "outputs": [
    {
     "data": {
      "text/html": [
       "<div>\n",
       "<style scoped>\n",
       "    .dataframe tbody tr th:only-of-type {\n",
       "        vertical-align: middle;\n",
       "    }\n",
       "\n",
       "    .dataframe tbody tr th {\n",
       "        vertical-align: top;\n",
       "    }\n",
       "\n",
       "    .dataframe thead th {\n",
       "        text-align: right;\n",
       "    }\n",
       "</style>\n",
       "<table border=\"1\" class=\"dataframe\">\n",
       "  <thead>\n",
       "    <tr style=\"text-align: right;\">\n",
       "      <th></th>\n",
       "      <th>ID</th>\n",
       "      <th>Price</th>\n",
       "    </tr>\n",
       "  </thead>\n",
       "  <tbody>\n",
       "    <tr>\n",
       "      <th>0</th>\n",
       "      <td>6001</td>\n",
       "      <td>17180.951072</td>\n",
       "    </tr>\n",
       "    <tr>\n",
       "      <th>1</th>\n",
       "      <td>6002</td>\n",
       "      <td>48309.704968</td>\n",
       "    </tr>\n",
       "    <tr>\n",
       "      <th>2</th>\n",
       "      <td>6003</td>\n",
       "      <td>3756.798872</td>\n",
       "    </tr>\n",
       "    <tr>\n",
       "      <th>3</th>\n",
       "      <td>6004</td>\n",
       "      <td>23253.722164</td>\n",
       "    </tr>\n",
       "    <tr>\n",
       "      <th>4</th>\n",
       "      <td>6005</td>\n",
       "      <td>16651.889129</td>\n",
       "    </tr>\n",
       "    <tr>\n",
       "      <th>...</th>\n",
       "      <td>...</td>\n",
       "      <td>...</td>\n",
       "    </tr>\n",
       "    <tr>\n",
       "      <th>3137</th>\n",
       "      <td>9138</td>\n",
       "      <td>5041.616482</td>\n",
       "    </tr>\n",
       "    <tr>\n",
       "      <th>3138</th>\n",
       "      <td>9139</td>\n",
       "      <td>9099.553077</td>\n",
       "    </tr>\n",
       "    <tr>\n",
       "      <th>3139</th>\n",
       "      <td>9140</td>\n",
       "      <td>9601.239760</td>\n",
       "    </tr>\n",
       "    <tr>\n",
       "      <th>3140</th>\n",
       "      <td>9141</td>\n",
       "      <td>7707.083617</td>\n",
       "    </tr>\n",
       "    <tr>\n",
       "      <th>3141</th>\n",
       "      <td>9142</td>\n",
       "      <td>3187.986797</td>\n",
       "    </tr>\n",
       "  </tbody>\n",
       "</table>\n",
       "<p>3142 rows × 2 columns</p>\n",
       "</div>"
      ],
      "text/plain": [
       "        ID         Price\n",
       "0     6001  17180.951072\n",
       "1     6002  48309.704968\n",
       "2     6003   3756.798872\n",
       "3     6004  23253.722164\n",
       "4     6005  16651.889129\n",
       "...    ...           ...\n",
       "3137  9138   5041.616482\n",
       "3138  9139   9099.553077\n",
       "3139  9140   9601.239760\n",
       "3140  9141   7707.083617\n",
       "3141  9142   3187.986797\n",
       "\n",
       "[3142 rows x 2 columns]"
      ]
     },
     "execution_count": 40,
     "metadata": {},
     "output_type": "execute_result"
    }
   ],
   "source": [
    "result_set = 'poly_lm'\n",
    "df_test['Price'] = preds[result_set]\n",
    "df_test[['ID', 'Price']]"
   ]
  },
  {
   "cell_type": "code",
   "execution_count": 41,
   "metadata": {
    "execution": {
     "iopub.execute_input": "2020-10-16T14:33:46.794944Z",
     "iopub.status.busy": "2020-10-16T14:33:46.793707Z",
     "iopub.status.idle": "2020-10-16T14:33:47.195191Z",
     "shell.execute_reply": "2020-10-16T14:33:47.193822Z"
    },
    "papermill": {
     "duration": 0.668559,
     "end_time": "2020-10-16T14:33:47.195444",
     "exception": false,
     "start_time": "2020-10-16T14:33:46.526885",
     "status": "completed"
    },
    "tags": []
   },
   "outputs": [],
   "source": [
    "df_test[['ID', 'Price']].to_csv('out.csv', index=False)"
   ]
  }
 ],
 "metadata": {
  "kernelspec": {
   "display_name": "Python 3 (ipykernel)",
   "language": "python",
   "name": "python3"
  },
  "language_info": {
   "codemirror_mode": {
    "name": "ipython",
    "version": 3
   },
   "file_extension": ".py",
   "mimetype": "text/x-python",
   "name": "python",
   "nbconvert_exporter": "python",
   "pygments_lexer": "ipython3",
   "version": "3.11.4"
  },
  "papermill": {
   "duration": 46.983734,
   "end_time": "2020-10-16T14:33:48.496936",
   "environment_variables": {},
   "exception": null,
   "input_path": "__notebook__.ipynb",
   "output_path": "__notebook__.ipynb",
   "parameters": {},
   "start_time": "2020-10-16T14:33:01.513202",
   "version": "2.1.0"
  }
 },
 "nbformat": 4,
 "nbformat_minor": 4
}
